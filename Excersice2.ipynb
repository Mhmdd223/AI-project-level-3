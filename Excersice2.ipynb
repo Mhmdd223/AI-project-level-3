{
 "cells": [
  {
   "cell_type": "code",
   "execution_count": 1,
   "id": "93ede4a0",
   "metadata": {},
   "outputs": [
    {
     "name": "stdout",
     "output_type": "stream",
     "text": [
      "Done! Data is loaded.\n"
     ]
    }
   ],
   "source": [
    "import pandas as pd\n",
    "url = 'https://raw.githubusercontent.com/datasciencedojo/datasets/master/titanic.csv'\n",
    "df = pd.read_csv(url)\n",
    "print('Done! Data is loaded.')"
   ]
  },
  {
   "cell_type": "code",
   "execution_count": null,
   "id": "ffb1898d",
   "metadata": {},
   "outputs": [],
   "source": [
    "df.head()\n",
    "df['Age'].isna().sum()"
   ]
  },
  {
   "cell_type": "code",
   "execution_count": 14,
   "id": "a4b3b05f",
   "metadata": {},
   "outputs": [],
   "source": [
    "df_clean = df.copy()\n",
    "df_clean['Age']= df_clean['Age'].fillna(df_clean['Age'].mean())\n"
   ]
  },
  {
   "cell_type": "code",
   "execution_count": null,
   "id": "f856c580",
   "metadata": {},
   "outputs": [],
   "source": [
    "df_clean['Age'].isna().sum()"
   ]
  }
 ],
 "metadata": {
  "kernelspec": {
   "display_name": "Python 3",
   "language": "python",
   "name": "python3"
  },
  "language_info": {
   "codemirror_mode": {
    "name": "ipython",
    "version": 3
   },
   "file_extension": ".py",
   "mimetype": "text/x-python",
   "name": "python",
   "nbconvert_exporter": "python",
   "pygments_lexer": "ipython3",
   "version": "3.11.9"
  }
 },
 "nbformat": 4,
 "nbformat_minor": 5
}

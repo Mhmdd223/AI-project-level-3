{
 "cells": [
  {
   "cell_type": "code",
   "execution_count": null,
   "id": "f6c91265",
   "metadata": {},
   "outputs": [],
   "source": [
    "import pandas as pd                      \n",
    "import seaborn as sns               \n",
    "import matplotlib.pyplot as plt\n",
    "\n",
    "# Make plots look a bit nicer and readable\n",
    "sns.set(style='whitegrid', palette='Set2', context='notebook')\n",
    "# Load the Titanic dataset from seaborn\n",
    "# This gives us a pandas DataFrame called df\n",
    "df = sns.load_dataset('titanic')\n",
    "# Peek at the first rows to confirm it loaded\n",
    "df.head(100)"
   ]
  },
  {
   "cell_type": "code",
   "execution_count": null,
   "id": "d387d189",
   "metadata": {},
   "outputs": [],
   "source": [
    "df.isna().sum()     #Find missing values"
   ]
  },
  {
   "cell_type": "code",
   "execution_count": 4,
   "id": "cd7ce036",
   "metadata": {},
   "outputs": [],
   "source": [
    "df_clean = df.copy()\n",
    "df_clean['age'] = df_clean['age'].fillna(df_clean['age'].median())          #Fill in missing values"
   ]
  },
  {
   "cell_type": "code",
   "execution_count": null,
   "id": "4613fc05",
   "metadata": {},
   "outputs": [],
   "source": [
    "df_clean.isna().sum()       #Find the new missing values"
   ]
  },
  {
   "cell_type": "code",
   "execution_count": null,
   "id": "e6f7376e",
   "metadata": {},
   "outputs": [],
   "source": [
    "    # Graph for the data\n",
    "plt.Figure(figsize=(10,8))\n",
    "sns.histplot(df['age'], bins=10, kde=True) #kde --> line graph inside the bar graph\n",
    "plt.title('Age Distribution of Passengers')\n",
    "plt.ylabel('Count')\n",
    "plt.xlabel('Ages')\n",
    "plt.show()"
   ]
  },
  {
   "cell_type": "code",
   "execution_count": null,
   "id": "e2e44b5d",
   "metadata": {},
   "outputs": [],
   "source": [
    "plt.Figure(figsize=(10,8))\n",
    "sns.histplot(df_clean['age'], bins=10, kde=True) #kde --> line graph inside the bar graph\n",
    "plt.title('Age Distribution of Passengers')\n",
    "plt.ylabel('Count')\n",
    "plt.xlabel('Ages')\n",
    "plt.show()"
   ]
  }
 ],
 "metadata": {
  "kernelspec": {
   "display_name": "Python 3",
   "language": "python",
   "name": "python3"
  },
  "language_info": {
   "codemirror_mode": {
    "name": "ipython",
    "version": 3
   },
   "file_extension": ".py",
   "mimetype": "text/x-python",
   "name": "python",
   "nbconvert_exporter": "python",
   "pygments_lexer": "ipython3",
   "version": "3.11.9"
  }
 },
 "nbformat": 4,
 "nbformat_minor": 5
}
